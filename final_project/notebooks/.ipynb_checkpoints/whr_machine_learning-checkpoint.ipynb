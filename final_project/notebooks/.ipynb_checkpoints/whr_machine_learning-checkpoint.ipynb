{
 "cells": [
  {
   "cell_type": "code",
   "execution_count": 1,
   "id": "07609804",
   "metadata": {},
   "outputs": [
    {
     "name": "stderr",
     "output_type": "stream",
     "text": [
      "Using TensorFlow backend.\n"
     ]
    }
   ],
   "source": [
    "import numpy as np\n",
    "import pandas as pd\n",
    "import itertools\n",
    "import copy\n",
    "\n",
    "import random\n",
    "random.seed(0)\n",
    "\n",
    "from sklearn import preprocessing\n",
    "from sklearn.model_selection import train_test_split\n",
    "import seaborn as sns\n",
    "\n",
    "from statistics import mean\n",
    "\n",
    "from sklearn import datasets\n",
    "from sklearn.preprocessing import LabelEncoder\n",
    "from sklearn.preprocessing import StandardScaler\n",
    "from sklearn.model_selection import cross_val_score\n",
    "from sklearn.model_selection import train_test_split\n",
    "from sklearn import metrics\n",
    "from sklearn.model_selection import GridSearchCV\n",
    "from sklearn.preprocessing import StandardScaler\n",
    "\n",
    "import matplotlib.pyplot as plt\n",
    "import matplotlib.gridspec as gridspec\n",
    "\n",
    "# from mlxtend.plotting import plot_decision_regions\n",
    "# from mlxtend.preprocessing import shuffle_arrays_unison\n",
    "import seaborn as sns\n",
    "\n",
    "# from tqdm.notebook import tqdm_notebook as tqdm\n",
    "\n",
    "from sklearn.preprocessing import PolynomialFeatures\n",
    "from sklearn.metrics import mean_squared_error\n",
    "import operator\n",
    "import numpy as np\n",
    "import matplotlib.pyplot as plt\n",
    "from sklearn.linear_model import LinearRegression\n",
    "from sklearn.linear_model import Ridge\n",
    "from sklearn.linear_model import Lasso\n",
    "from sklearn.linear_model import RidgeCV\n",
    "from sklearn.linear_model import LassoCV\n",
    "from sklearn.linear_model import SGDRegressor\n",
    "from sklearn.neighbors import KNeighborsRegressor\n",
    "\n",
    "from math import log2, sqrt, isnan\n",
    "from sklearn.preprocessing import LabelEncoder\n",
    "from sklearn.tree import DecisionTreeClassifier\n",
    "from sklearn import metrics\n",
    "from sklearn import tree\n",
    "from sklearn import preprocessing\n",
    "import matplotlib.pyplot as plt\n",
    "import six\n",
    "from sklearn.ensemble import RandomForestClassifier\n",
    "from sklearn.tree import DecisionTreeRegressor\n",
    "from sklearn.ensemble import RandomForestRegressor\n",
    "from sklearn.ensemble import AdaBoostRegressor\n",
    "from sklearn.metrics import make_scorer\n",
    "from sklearn.tree import export_graphviz\n",
    "from six import StringIO  \n",
    "from IPython.display import Image  \n",
    "# import pydotplus\n",
    "# from tqdm.notebook import tqdm_notebook as tqdm\n",
    "from sklearn.model_selection import GridSearchCV\n",
    "\n",
    "from sklearn.preprocessing import Normalizer\n",
    "from sklearn.preprocessing import StandardScaler\n",
    "from sklearn.metrics import accuracy_score\n",
    "from sklearn.model_selection import KFold\n",
    "from collections import Counter\n",
    "\n",
    "from sklearn.metrics import accuracy_score\n",
    "from sklearn.neighbors import KNeighborsClassifier\n",
    "from keras.models import Sequential\n",
    "from keras.layers import Dense\n",
    "import matplotlib.pyplot as plt\n",
    "from keras.layers import Dropout\n",
    "from keras import regularizers\n",
    "from keras import backend as K\n",
    "from keras import callbacks\n",
    "\n",
    "from sklearn.impute import KNNImputer\n",
    "from sklearn.metrics import r2_score\n",
    "from sklearn.decomposition import PCA\n",
    "from sklearn.feature_selection import RFE"
   ]
  },
  {
   "cell_type": "code",
   "execution_count": 2,
   "id": "7f398902",
   "metadata": {},
   "outputs": [
    {
     "data": {
      "text/html": [
       "<div>\n",
       "<style scoped>\n",
       "    .dataframe tbody tr th:only-of-type {\n",
       "        vertical-align: middle;\n",
       "    }\n",
       "\n",
       "    .dataframe tbody tr th {\n",
       "        vertical-align: top;\n",
       "    }\n",
       "\n",
       "    .dataframe thead th {\n",
       "        text-align: right;\n",
       "    }\n",
       "</style>\n",
       "<table border=\"1\" class=\"dataframe\">\n",
       "  <thead>\n",
       "    <tr style=\"text-align: right;\">\n",
       "      <th></th>\n",
       "      <th>Unnamed: 0</th>\n",
       "      <th>country_id</th>\n",
       "      <th>Country</th>\n",
       "      <th>Code</th>\n",
       "      <th>Region</th>\n",
       "      <th>HappinessRank</th>\n",
       "      <th>HappinessScore</th>\n",
       "      <th>StandardError</th>\n",
       "      <th>Economy_GDPperCapita</th>\n",
       "      <th>Family</th>\n",
       "      <th>Health_LifeExpectancy</th>\n",
       "      <th>Freedom</th>\n",
       "      <th>Trust_GovernmentCorruption</th>\n",
       "      <th>Generosity</th>\n",
       "      <th>DystopiaResidual</th>\n",
       "      <th>Latitude</th>\n",
       "      <th>Longitude</th>\n",
       "    </tr>\n",
       "  </thead>\n",
       "  <tbody>\n",
       "    <tr>\n",
       "      <th>0</th>\n",
       "      <td>0</td>\n",
       "      <td>1</td>\n",
       "      <td>Afghanistan</td>\n",
       "      <td>AF</td>\n",
       "      <td>Southern Asia</td>\n",
       "      <td>153</td>\n",
       "      <td>3.575</td>\n",
       "      <td>0.03084</td>\n",
       "      <td>0.31982</td>\n",
       "      <td>0.30285</td>\n",
       "      <td>0.30335</td>\n",
       "      <td>0.23414</td>\n",
       "      <td>0.09719</td>\n",
       "      <td>0.36510</td>\n",
       "      <td>1.95210</td>\n",
       "      <td>33.939110</td>\n",
       "      <td>67.709953</td>\n",
       "    </tr>\n",
       "    <tr>\n",
       "      <th>1</th>\n",
       "      <td>1</td>\n",
       "      <td>2</td>\n",
       "      <td>Albania</td>\n",
       "      <td>AL</td>\n",
       "      <td>Central and Eastern Europe</td>\n",
       "      <td>95</td>\n",
       "      <td>4.959</td>\n",
       "      <td>0.05013</td>\n",
       "      <td>0.87867</td>\n",
       "      <td>0.80434</td>\n",
       "      <td>0.81325</td>\n",
       "      <td>0.35733</td>\n",
       "      <td>0.06413</td>\n",
       "      <td>0.14272</td>\n",
       "      <td>1.89894</td>\n",
       "      <td>41.153332</td>\n",
       "      <td>20.168331</td>\n",
       "    </tr>\n",
       "    <tr>\n",
       "      <th>2</th>\n",
       "      <td>2</td>\n",
       "      <td>3</td>\n",
       "      <td>Algeria</td>\n",
       "      <td>DZ</td>\n",
       "      <td>Middle East and Northern Africa</td>\n",
       "      <td>68</td>\n",
       "      <td>5.605</td>\n",
       "      <td>0.05099</td>\n",
       "      <td>0.93929</td>\n",
       "      <td>1.07772</td>\n",
       "      <td>0.61766</td>\n",
       "      <td>0.28579</td>\n",
       "      <td>0.17383</td>\n",
       "      <td>0.07822</td>\n",
       "      <td>2.43209</td>\n",
       "      <td>28.033886</td>\n",
       "      <td>1.659626</td>\n",
       "    </tr>\n",
       "    <tr>\n",
       "      <th>3</th>\n",
       "      <td>3</td>\n",
       "      <td>4</td>\n",
       "      <td>Angola</td>\n",
       "      <td>AO</td>\n",
       "      <td>Sub-Saharan Africa</td>\n",
       "      <td>137</td>\n",
       "      <td>4.033</td>\n",
       "      <td>0.04758</td>\n",
       "      <td>0.75778</td>\n",
       "      <td>0.86040</td>\n",
       "      <td>0.16683</td>\n",
       "      <td>0.10384</td>\n",
       "      <td>0.07122</td>\n",
       "      <td>0.12344</td>\n",
       "      <td>1.94939</td>\n",
       "      <td>-11.202692</td>\n",
       "      <td>17.873887</td>\n",
       "    </tr>\n",
       "    <tr>\n",
       "      <th>4</th>\n",
       "      <td>4</td>\n",
       "      <td>5</td>\n",
       "      <td>Argentina</td>\n",
       "      <td>AR</td>\n",
       "      <td>Latin America and Caribbean</td>\n",
       "      <td>30</td>\n",
       "      <td>6.574</td>\n",
       "      <td>0.04612</td>\n",
       "      <td>1.05351</td>\n",
       "      <td>1.24823</td>\n",
       "      <td>0.78723</td>\n",
       "      <td>0.44974</td>\n",
       "      <td>0.08484</td>\n",
       "      <td>0.11451</td>\n",
       "      <td>2.83600</td>\n",
       "      <td>-38.416097</td>\n",
       "      <td>-63.616672</td>\n",
       "    </tr>\n",
       "  </tbody>\n",
       "</table>\n",
       "</div>"
      ],
      "text/plain": [
       "   Unnamed: 0  country_id      Country Code                           Region  \\\n",
       "0           0           1  Afghanistan   AF                    Southern Asia   \n",
       "1           1           2      Albania   AL       Central and Eastern Europe   \n",
       "2           2           3      Algeria   DZ  Middle East and Northern Africa   \n",
       "3           3           4       Angola   AO               Sub-Saharan Africa   \n",
       "4           4           5    Argentina   AR      Latin America and Caribbean   \n",
       "\n",
       "   HappinessRank  HappinessScore  StandardError  Economy_GDPperCapita  \\\n",
       "0            153           3.575        0.03084               0.31982   \n",
       "1             95           4.959        0.05013               0.87867   \n",
       "2             68           5.605        0.05099               0.93929   \n",
       "3            137           4.033        0.04758               0.75778   \n",
       "4             30           6.574        0.04612               1.05351   \n",
       "\n",
       "    Family  Health_LifeExpectancy  Freedom  Trust_GovernmentCorruption  \\\n",
       "0  0.30285                0.30335  0.23414                     0.09719   \n",
       "1  0.80434                0.81325  0.35733                     0.06413   \n",
       "2  1.07772                0.61766  0.28579                     0.17383   \n",
       "3  0.86040                0.16683  0.10384                     0.07122   \n",
       "4  1.24823                0.78723  0.44974                     0.08484   \n",
       "\n",
       "   Generosity  DystopiaResidual   Latitude  Longitude  \n",
       "0     0.36510           1.95210  33.939110  67.709953  \n",
       "1     0.14272           1.89894  41.153332  20.168331  \n",
       "2     0.07822           2.43209  28.033886   1.659626  \n",
       "3     0.12344           1.94939 -11.202692  17.873887  \n",
       "4     0.11451           2.83600 -38.416097 -63.616672  "
      ]
     },
     "execution_count": 2,
     "metadata": {},
     "output_type": "execute_result"
    }
   ],
   "source": [
    "df_2015 = pd.read_csv('../data/csv/happiness_2015.csv')\n",
    "df_2015.head()"
   ]
  },
  {
   "cell_type": "code",
   "execution_count": 3,
   "id": "0c7837a1",
   "metadata": {},
   "outputs": [
    {
     "data": {
      "text/html": [
       "<div>\n",
       "<style scoped>\n",
       "    .dataframe tbody tr th:only-of-type {\n",
       "        vertical-align: middle;\n",
       "    }\n",
       "\n",
       "    .dataframe tbody tr th {\n",
       "        vertical-align: top;\n",
       "    }\n",
       "\n",
       "    .dataframe thead th {\n",
       "        text-align: right;\n",
       "    }\n",
       "</style>\n",
       "<table border=\"1\" class=\"dataframe\">\n",
       "  <thead>\n",
       "    <tr style=\"text-align: right;\">\n",
       "      <th></th>\n",
       "      <th>Unnamed: 0</th>\n",
       "      <th>country_id</th>\n",
       "      <th>Country</th>\n",
       "      <th>Code</th>\n",
       "      <th>Region</th>\n",
       "      <th>HappinessRank</th>\n",
       "      <th>HappinessScore</th>\n",
       "      <th>LowerConfidenceInterval</th>\n",
       "      <th>UpperConfidenceInterval</th>\n",
       "      <th>Economy_GDPperCapita</th>\n",
       "      <th>Family</th>\n",
       "      <th>Health_LifeExpectancy</th>\n",
       "      <th>Freedom</th>\n",
       "      <th>Trust_GovernmentCorruption</th>\n",
       "      <th>Generosity</th>\n",
       "      <th>DystopiaResidual</th>\n",
       "      <th>Latitude</th>\n",
       "      <th>Longitude</th>\n",
       "    </tr>\n",
       "  </thead>\n",
       "  <tbody>\n",
       "    <tr>\n",
       "      <th>0</th>\n",
       "      <td>0</td>\n",
       "      <td>1</td>\n",
       "      <td>Afghanistan</td>\n",
       "      <td>AF</td>\n",
       "      <td>Southern Asia</td>\n",
       "      <td>154</td>\n",
       "      <td>3.360</td>\n",
       "      <td>3.288</td>\n",
       "      <td>3.432</td>\n",
       "      <td>0.38227</td>\n",
       "      <td>0.11037</td>\n",
       "      <td>0.17344</td>\n",
       "      <td>0.16430</td>\n",
       "      <td>0.07112</td>\n",
       "      <td>0.31268</td>\n",
       "      <td>2.14558</td>\n",
       "      <td>33.939110</td>\n",
       "      <td>67.709953</td>\n",
       "    </tr>\n",
       "    <tr>\n",
       "      <th>1</th>\n",
       "      <td>1</td>\n",
       "      <td>2</td>\n",
       "      <td>Albania</td>\n",
       "      <td>AL</td>\n",
       "      <td>Central and Eastern Europe</td>\n",
       "      <td>109</td>\n",
       "      <td>4.655</td>\n",
       "      <td>4.546</td>\n",
       "      <td>4.764</td>\n",
       "      <td>0.95530</td>\n",
       "      <td>0.50163</td>\n",
       "      <td>0.73007</td>\n",
       "      <td>0.31866</td>\n",
       "      <td>0.05301</td>\n",
       "      <td>0.16840</td>\n",
       "      <td>1.92816</td>\n",
       "      <td>41.153332</td>\n",
       "      <td>20.168331</td>\n",
       "    </tr>\n",
       "    <tr>\n",
       "      <th>2</th>\n",
       "      <td>2</td>\n",
       "      <td>3</td>\n",
       "      <td>Algeria</td>\n",
       "      <td>DZ</td>\n",
       "      <td>Middle East and Northern Africa</td>\n",
       "      <td>38</td>\n",
       "      <td>6.355</td>\n",
       "      <td>6.227</td>\n",
       "      <td>6.483</td>\n",
       "      <td>1.05266</td>\n",
       "      <td>0.83309</td>\n",
       "      <td>0.61804</td>\n",
       "      <td>0.21006</td>\n",
       "      <td>0.16157</td>\n",
       "      <td>0.07044</td>\n",
       "      <td>3.40904</td>\n",
       "      <td>28.033886</td>\n",
       "      <td>1.659626</td>\n",
       "    </tr>\n",
       "    <tr>\n",
       "      <th>3</th>\n",
       "      <td>3</td>\n",
       "      <td>4</td>\n",
       "      <td>Angola</td>\n",
       "      <td>AO</td>\n",
       "      <td>Sub-Saharan Africa</td>\n",
       "      <td>141</td>\n",
       "      <td>3.866</td>\n",
       "      <td>3.753</td>\n",
       "      <td>3.979</td>\n",
       "      <td>0.84731</td>\n",
       "      <td>0.66366</td>\n",
       "      <td>0.04991</td>\n",
       "      <td>0.00589</td>\n",
       "      <td>0.08434</td>\n",
       "      <td>0.12071</td>\n",
       "      <td>2.09459</td>\n",
       "      <td>-11.202692</td>\n",
       "      <td>17.873887</td>\n",
       "    </tr>\n",
       "    <tr>\n",
       "      <th>4</th>\n",
       "      <td>4</td>\n",
       "      <td>5</td>\n",
       "      <td>Argentina</td>\n",
       "      <td>AR</td>\n",
       "      <td>Latin America and Caribbean</td>\n",
       "      <td>26</td>\n",
       "      <td>6.650</td>\n",
       "      <td>6.560</td>\n",
       "      <td>6.740</td>\n",
       "      <td>1.15137</td>\n",
       "      <td>1.06612</td>\n",
       "      <td>0.69711</td>\n",
       "      <td>0.42284</td>\n",
       "      <td>0.07296</td>\n",
       "      <td>0.10989</td>\n",
       "      <td>3.12985</td>\n",
       "      <td>-38.416097</td>\n",
       "      <td>-63.616672</td>\n",
       "    </tr>\n",
       "  </tbody>\n",
       "</table>\n",
       "</div>"
      ],
      "text/plain": [
       "   Unnamed: 0  country_id      Country Code                           Region  \\\n",
       "0           0           1  Afghanistan   AF                    Southern Asia   \n",
       "1           1           2      Albania   AL       Central and Eastern Europe   \n",
       "2           2           3      Algeria   DZ  Middle East and Northern Africa   \n",
       "3           3           4       Angola   AO               Sub-Saharan Africa   \n",
       "4           4           5    Argentina   AR      Latin America and Caribbean   \n",
       "\n",
       "   HappinessRank  HappinessScore  LowerConfidenceInterval  \\\n",
       "0            154           3.360                    3.288   \n",
       "1            109           4.655                    4.546   \n",
       "2             38           6.355                    6.227   \n",
       "3            141           3.866                    3.753   \n",
       "4             26           6.650                    6.560   \n",
       "\n",
       "   UpperConfidenceInterval  Economy_GDPperCapita   Family  \\\n",
       "0                    3.432               0.38227  0.11037   \n",
       "1                    4.764               0.95530  0.50163   \n",
       "2                    6.483               1.05266  0.83309   \n",
       "3                    3.979               0.84731  0.66366   \n",
       "4                    6.740               1.15137  1.06612   \n",
       "\n",
       "   Health_LifeExpectancy  Freedom  Trust_GovernmentCorruption  Generosity  \\\n",
       "0                0.17344  0.16430                     0.07112     0.31268   \n",
       "1                0.73007  0.31866                     0.05301     0.16840   \n",
       "2                0.61804  0.21006                     0.16157     0.07044   \n",
       "3                0.04991  0.00589                     0.08434     0.12071   \n",
       "4                0.69711  0.42284                     0.07296     0.10989   \n",
       "\n",
       "   DystopiaResidual   Latitude  Longitude  \n",
       "0           2.14558  33.939110  67.709953  \n",
       "1           1.92816  41.153332  20.168331  \n",
       "2           3.40904  28.033886   1.659626  \n",
       "3           2.09459 -11.202692  17.873887  \n",
       "4           3.12985 -38.416097 -63.616672  "
      ]
     },
     "execution_count": 3,
     "metadata": {},
     "output_type": "execute_result"
    }
   ],
   "source": [
    "df_2016 = pd.read_csv('../data/csv/happiness_2016.csv')\n",
    "df_2016.head()"
   ]
  },
  {
   "cell_type": "code",
   "execution_count": 4,
   "id": "292ad542",
   "metadata": {},
   "outputs": [
    {
     "data": {
      "text/html": [
       "<div>\n",
       "<style scoped>\n",
       "    .dataframe tbody tr th:only-of-type {\n",
       "        vertical-align: middle;\n",
       "    }\n",
       "\n",
       "    .dataframe tbody tr th {\n",
       "        vertical-align: top;\n",
       "    }\n",
       "\n",
       "    .dataframe thead th {\n",
       "        text-align: right;\n",
       "    }\n",
       "</style>\n",
       "<table border=\"1\" class=\"dataframe\">\n",
       "  <thead>\n",
       "    <tr style=\"text-align: right;\">\n",
       "      <th></th>\n",
       "      <th>Unnamed: 0</th>\n",
       "      <th>country_id</th>\n",
       "      <th>Country</th>\n",
       "      <th>Code</th>\n",
       "      <th>HappinessRank</th>\n",
       "      <th>HappinessScore</th>\n",
       "      <th>Whiskerhigh</th>\n",
       "      <th>Whiskerlow</th>\n",
       "      <th>Economy_GDPperCapita</th>\n",
       "      <th>Family</th>\n",
       "      <th>Health_LifeExpectancy</th>\n",
       "      <th>Freedom</th>\n",
       "      <th>Generosity</th>\n",
       "      <th>Trust_GovernmentCorruption</th>\n",
       "      <th>DystopiaResidual</th>\n",
       "      <th>Latitude</th>\n",
       "      <th>Longitude</th>\n",
       "    </tr>\n",
       "  </thead>\n",
       "  <tbody>\n",
       "    <tr>\n",
       "      <th>0</th>\n",
       "      <td>0</td>\n",
       "      <td>1</td>\n",
       "      <td>Afghanistan</td>\n",
       "      <td>AF</td>\n",
       "      <td>141</td>\n",
       "      <td>3.794</td>\n",
       "      <td>3.873661</td>\n",
       "      <td>3.714338</td>\n",
       "      <td>0.401477</td>\n",
       "      <td>0.581543</td>\n",
       "      <td>0.180747</td>\n",
       "      <td>0.106180</td>\n",
       "      <td>0.311871</td>\n",
       "      <td>0.061158</td>\n",
       "      <td>2.150801</td>\n",
       "      <td>33.939110</td>\n",
       "      <td>67.709953</td>\n",
       "    </tr>\n",
       "    <tr>\n",
       "      <th>1</th>\n",
       "      <td>1</td>\n",
       "      <td>2</td>\n",
       "      <td>Albania</td>\n",
       "      <td>AL</td>\n",
       "      <td>109</td>\n",
       "      <td>4.644</td>\n",
       "      <td>4.752464</td>\n",
       "      <td>4.535536</td>\n",
       "      <td>0.996193</td>\n",
       "      <td>0.803685</td>\n",
       "      <td>0.731160</td>\n",
       "      <td>0.381499</td>\n",
       "      <td>0.201313</td>\n",
       "      <td>0.039864</td>\n",
       "      <td>1.490442</td>\n",
       "      <td>41.153332</td>\n",
       "      <td>20.168331</td>\n",
       "    </tr>\n",
       "    <tr>\n",
       "      <th>2</th>\n",
       "      <td>2</td>\n",
       "      <td>3</td>\n",
       "      <td>Algeria</td>\n",
       "      <td>DZ</td>\n",
       "      <td>53</td>\n",
       "      <td>5.872</td>\n",
       "      <td>5.978286</td>\n",
       "      <td>5.765714</td>\n",
       "      <td>1.091864</td>\n",
       "      <td>1.146217</td>\n",
       "      <td>0.617585</td>\n",
       "      <td>0.233336</td>\n",
       "      <td>0.069437</td>\n",
       "      <td>0.146096</td>\n",
       "      <td>2.567604</td>\n",
       "      <td>28.033886</td>\n",
       "      <td>1.659626</td>\n",
       "    </tr>\n",
       "    <tr>\n",
       "      <th>3</th>\n",
       "      <td>3</td>\n",
       "      <td>4</td>\n",
       "      <td>Angola</td>\n",
       "      <td>AO</td>\n",
       "      <td>140</td>\n",
       "      <td>3.795</td>\n",
       "      <td>3.951642</td>\n",
       "      <td>3.638358</td>\n",
       "      <td>0.858428</td>\n",
       "      <td>1.104412</td>\n",
       "      <td>0.049869</td>\n",
       "      <td>0.000000</td>\n",
       "      <td>0.097926</td>\n",
       "      <td>0.069720</td>\n",
       "      <td>1.614482</td>\n",
       "      <td>-11.202692</td>\n",
       "      <td>17.873887</td>\n",
       "    </tr>\n",
       "    <tr>\n",
       "      <th>4</th>\n",
       "      <td>4</td>\n",
       "      <td>5</td>\n",
       "      <td>Argentina</td>\n",
       "      <td>AR</td>\n",
       "      <td>24</td>\n",
       "      <td>6.599</td>\n",
       "      <td>6.690085</td>\n",
       "      <td>6.507915</td>\n",
       "      <td>1.185295</td>\n",
       "      <td>1.440451</td>\n",
       "      <td>0.695137</td>\n",
       "      <td>0.494519</td>\n",
       "      <td>0.109457</td>\n",
       "      <td>0.059740</td>\n",
       "      <td>2.614005</td>\n",
       "      <td>-38.416097</td>\n",
       "      <td>-63.616672</td>\n",
       "    </tr>\n",
       "  </tbody>\n",
       "</table>\n",
       "</div>"
      ],
      "text/plain": [
       "   Unnamed: 0  country_id      Country Code  HappinessRank  HappinessScore  \\\n",
       "0           0           1  Afghanistan   AF            141           3.794   \n",
       "1           1           2      Albania   AL            109           4.644   \n",
       "2           2           3      Algeria   DZ             53           5.872   \n",
       "3           3           4       Angola   AO            140           3.795   \n",
       "4           4           5    Argentina   AR             24           6.599   \n",
       "\n",
       "   Whiskerhigh  Whiskerlow  Economy_GDPperCapita    Family  \\\n",
       "0     3.873661    3.714338              0.401477  0.581543   \n",
       "1     4.752464    4.535536              0.996193  0.803685   \n",
       "2     5.978286    5.765714              1.091864  1.146217   \n",
       "3     3.951642    3.638358              0.858428  1.104412   \n",
       "4     6.690085    6.507915              1.185295  1.440451   \n",
       "\n",
       "   Health_LifeExpectancy   Freedom  Generosity  Trust_GovernmentCorruption  \\\n",
       "0               0.180747  0.106180    0.311871                    0.061158   \n",
       "1               0.731160  0.381499    0.201313                    0.039864   \n",
       "2               0.617585  0.233336    0.069437                    0.146096   \n",
       "3               0.049869  0.000000    0.097926                    0.069720   \n",
       "4               0.695137  0.494519    0.109457                    0.059740   \n",
       "\n",
       "   DystopiaResidual   Latitude  Longitude  \n",
       "0          2.150801  33.939110  67.709953  \n",
       "1          1.490442  41.153332  20.168331  \n",
       "2          2.567604  28.033886   1.659626  \n",
       "3          1.614482 -11.202692  17.873887  \n",
       "4          2.614005 -38.416097 -63.616672  "
      ]
     },
     "execution_count": 4,
     "metadata": {},
     "output_type": "execute_result"
    }
   ],
   "source": [
    "df_2017 = pd.read_csv('../data/csv/happiness_2017.csv')\n",
    "df_2017.head()"
   ]
  },
  {
   "cell_type": "code",
   "execution_count": 5,
   "id": "6c23ab26",
   "metadata": {},
   "outputs": [
    {
     "data": {
      "text/plain": [
       "(158, 17)"
      ]
     },
     "execution_count": 5,
     "metadata": {},
     "output_type": "execute_result"
    }
   ],
   "source": [
    "df_2015.shape"
   ]
  },
  {
   "cell_type": "code",
   "execution_count": 6,
   "id": "ac062a31",
   "metadata": {},
   "outputs": [
    {
     "data": {
      "text/plain": [
       "(157, 18)"
      ]
     },
     "execution_count": 6,
     "metadata": {},
     "output_type": "execute_result"
    }
   ],
   "source": [
    "df_2016.shape"
   ]
  },
  {
   "cell_type": "code",
   "execution_count": 7,
   "id": "34de0c4e",
   "metadata": {},
   "outputs": [
    {
     "data": {
      "text/plain": [
       "(155, 17)"
      ]
     },
     "execution_count": 7,
     "metadata": {},
     "output_type": "execute_result"
    }
   ],
   "source": [
    "df_2017.shape"
   ]
  },
  {
   "cell_type": "code",
   "execution_count": 8,
   "id": "b95e4cac",
   "metadata": {},
   "outputs": [
    {
     "data": {
      "text/plain": [
       "Index(['Unnamed: 0', 'country_id', 'Country', 'Code', 'Region',\n",
       "       'HappinessRank', 'HappinessScore', 'StandardError',\n",
       "       'Economy_GDPperCapita', 'Family', 'Health_LifeExpectancy', 'Freedom',\n",
       "       'Trust_GovernmentCorruption', 'Generosity', 'DystopiaResidual',\n",
       "       'Latitude', 'Longitude'],\n",
       "      dtype='object')"
      ]
     },
     "execution_count": 8,
     "metadata": {},
     "output_type": "execute_result"
    }
   ],
   "source": [
    "df_2015.columns"
   ]
  },
  {
   "cell_type": "code",
   "execution_count": 9,
   "id": "3f3632cf",
   "metadata": {},
   "outputs": [
    {
     "data": {
      "text/plain": [
       "Index(['Unnamed: 0', 'country_id', 'Country', 'Code', 'Region',\n",
       "       'HappinessRank', 'HappinessScore', 'LowerConfidenceInterval',\n",
       "       'UpperConfidenceInterval', 'Economy_GDPperCapita', 'Family',\n",
       "       'Health_LifeExpectancy', 'Freedom', 'Trust_GovernmentCorruption',\n",
       "       'Generosity', 'DystopiaResidual', 'Latitude', 'Longitude'],\n",
       "      dtype='object')"
      ]
     },
     "execution_count": 9,
     "metadata": {},
     "output_type": "execute_result"
    }
   ],
   "source": [
    "df_2016.columns"
   ]
  },
  {
   "cell_type": "code",
   "execution_count": 10,
   "id": "e3f14aae",
   "metadata": {},
   "outputs": [
    {
     "data": {
      "text/plain": [
       "Index(['Unnamed: 0', 'country_id', 'Country', 'Code', 'HappinessRank',\n",
       "       'HappinessScore', 'Whiskerhigh', 'Whiskerlow', 'Economy_GDPperCapita',\n",
       "       'Family', 'Health_LifeExpectancy', 'Freedom', 'Generosity',\n",
       "       'Trust_GovernmentCorruption', 'DystopiaResidual', 'Latitude',\n",
       "       'Longitude'],\n",
       "      dtype='object')"
      ]
     },
     "execution_count": 10,
     "metadata": {},
     "output_type": "execute_result"
    }
   ],
   "source": [
    "df_2017.columns"
   ]
  },
  {
   "cell_type": "code",
   "execution_count": 11,
   "id": "1268261d",
   "metadata": {},
   "outputs": [
    {
     "data": {
      "text/plain": [
       "(158, 12)"
      ]
     },
     "execution_count": 11,
     "metadata": {},
     "output_type": "execute_result"
    }
   ],
   "source": [
    "final_2015 = df_2015[['country_id', 'Country', 'Code',\n",
    "       'HappinessRank', 'HappinessScore', 'Economy_GDPperCapita', 'Family', 'Health_LifeExpectancy', 'Freedom',\n",
    "       'Trust_GovernmentCorruption', 'Generosity', 'DystopiaResidual']]\n",
    "final_2015.shape"
   ]
  },
  {
   "cell_type": "code",
   "execution_count": 12,
   "id": "d06c4ccd",
   "metadata": {},
   "outputs": [
    {
     "data": {
      "text/plain": [
       "(157, 12)"
      ]
     },
     "execution_count": 12,
     "metadata": {},
     "output_type": "execute_result"
    }
   ],
   "source": [
    "final_2016 = df_2016[['country_id', 'Country', 'Code',\n",
    "       'HappinessRank', 'HappinessScore', 'Economy_GDPperCapita', 'Family',\n",
    "       'Health_LifeExpectancy', 'Freedom', 'Trust_GovernmentCorruption',\n",
    "       'Generosity', 'DystopiaResidual' ]]\n",
    "final_2016.shape"
   ]
  },
  {
   "cell_type": "code",
   "execution_count": 13,
   "id": "88c3458a",
   "metadata": {},
   "outputs": [
    {
     "data": {
      "text/plain": [
       "(155, 12)"
      ]
     },
     "execution_count": 13,
     "metadata": {},
     "output_type": "execute_result"
    }
   ],
   "source": [
    "final_2017 = df_2017[['country_id', 'Country', 'Code',\n",
    "       'HappinessRank', 'HappinessScore', 'Economy_GDPperCapita', 'Family',\n",
    "       'Health_LifeExpectancy', 'Freedom', 'Trust_GovernmentCorruption',\n",
    "       'Generosity', 'DystopiaResidual' ]]\n",
    "final_2017.shape"
   ]
  },
  {
   "cell_type": "code",
   "execution_count": 14,
   "id": "55479e00",
   "metadata": {},
   "outputs": [],
   "source": [
    "frames = [final_2015, final_2016, final_2017]\n",
    "final_df = pd.concat(frames)"
   ]
  },
  {
   "cell_type": "code",
   "execution_count": 15,
   "id": "f1f53731",
   "metadata": {},
   "outputs": [
    {
     "data": {
      "text/html": [
       "<div>\n",
       "<style scoped>\n",
       "    .dataframe tbody tr th:only-of-type {\n",
       "        vertical-align: middle;\n",
       "    }\n",
       "\n",
       "    .dataframe tbody tr th {\n",
       "        vertical-align: top;\n",
       "    }\n",
       "\n",
       "    .dataframe thead th {\n",
       "        text-align: right;\n",
       "    }\n",
       "</style>\n",
       "<table border=\"1\" class=\"dataframe\">\n",
       "  <thead>\n",
       "    <tr style=\"text-align: right;\">\n",
       "      <th></th>\n",
       "      <th>country_id</th>\n",
       "      <th>Country</th>\n",
       "      <th>Code</th>\n",
       "      <th>HappinessRank</th>\n",
       "      <th>HappinessScore</th>\n",
       "      <th>Economy_GDPperCapita</th>\n",
       "      <th>Family</th>\n",
       "      <th>Health_LifeExpectancy</th>\n",
       "      <th>Freedom</th>\n",
       "      <th>Trust_GovernmentCorruption</th>\n",
       "      <th>Generosity</th>\n",
       "      <th>DystopiaResidual</th>\n",
       "    </tr>\n",
       "  </thead>\n",
       "  <tbody>\n",
       "    <tr>\n",
       "      <th>0</th>\n",
       "      <td>1</td>\n",
       "      <td>Afghanistan</td>\n",
       "      <td>AF</td>\n",
       "      <td>153</td>\n",
       "      <td>3.575</td>\n",
       "      <td>0.31982</td>\n",
       "      <td>0.30285</td>\n",
       "      <td>0.30335</td>\n",
       "      <td>0.23414</td>\n",
       "      <td>0.09719</td>\n",
       "      <td>0.36510</td>\n",
       "      <td>1.95210</td>\n",
       "    </tr>\n",
       "    <tr>\n",
       "      <th>1</th>\n",
       "      <td>2</td>\n",
       "      <td>Albania</td>\n",
       "      <td>AL</td>\n",
       "      <td>95</td>\n",
       "      <td>4.959</td>\n",
       "      <td>0.87867</td>\n",
       "      <td>0.80434</td>\n",
       "      <td>0.81325</td>\n",
       "      <td>0.35733</td>\n",
       "      <td>0.06413</td>\n",
       "      <td>0.14272</td>\n",
       "      <td>1.89894</td>\n",
       "    </tr>\n",
       "    <tr>\n",
       "      <th>2</th>\n",
       "      <td>3</td>\n",
       "      <td>Algeria</td>\n",
       "      <td>DZ</td>\n",
       "      <td>68</td>\n",
       "      <td>5.605</td>\n",
       "      <td>0.93929</td>\n",
       "      <td>1.07772</td>\n",
       "      <td>0.61766</td>\n",
       "      <td>0.28579</td>\n",
       "      <td>0.17383</td>\n",
       "      <td>0.07822</td>\n",
       "      <td>2.43209</td>\n",
       "    </tr>\n",
       "    <tr>\n",
       "      <th>3</th>\n",
       "      <td>4</td>\n",
       "      <td>Angola</td>\n",
       "      <td>AO</td>\n",
       "      <td>137</td>\n",
       "      <td>4.033</td>\n",
       "      <td>0.75778</td>\n",
       "      <td>0.86040</td>\n",
       "      <td>0.16683</td>\n",
       "      <td>0.10384</td>\n",
       "      <td>0.07122</td>\n",
       "      <td>0.12344</td>\n",
       "      <td>1.94939</td>\n",
       "    </tr>\n",
       "    <tr>\n",
       "      <th>4</th>\n",
       "      <td>5</td>\n",
       "      <td>Argentina</td>\n",
       "      <td>AR</td>\n",
       "      <td>30</td>\n",
       "      <td>6.574</td>\n",
       "      <td>1.05351</td>\n",
       "      <td>1.24823</td>\n",
       "      <td>0.78723</td>\n",
       "      <td>0.44974</td>\n",
       "      <td>0.08484</td>\n",
       "      <td>0.11451</td>\n",
       "      <td>2.83600</td>\n",
       "    </tr>\n",
       "  </tbody>\n",
       "</table>\n",
       "</div>"
      ],
      "text/plain": [
       "   country_id      Country Code  HappinessRank  HappinessScore  \\\n",
       "0           1  Afghanistan   AF            153           3.575   \n",
       "1           2      Albania   AL             95           4.959   \n",
       "2           3      Algeria   DZ             68           5.605   \n",
       "3           4       Angola   AO            137           4.033   \n",
       "4           5    Argentina   AR             30           6.574   \n",
       "\n",
       "   Economy_GDPperCapita   Family  Health_LifeExpectancy  Freedom  \\\n",
       "0               0.31982  0.30285                0.30335  0.23414   \n",
       "1               0.87867  0.80434                0.81325  0.35733   \n",
       "2               0.93929  1.07772                0.61766  0.28579   \n",
       "3               0.75778  0.86040                0.16683  0.10384   \n",
       "4               1.05351  1.24823                0.78723  0.44974   \n",
       "\n",
       "   Trust_GovernmentCorruption  Generosity  DystopiaResidual  \n",
       "0                     0.09719     0.36510           1.95210  \n",
       "1                     0.06413     0.14272           1.89894  \n",
       "2                     0.17383     0.07822           2.43209  \n",
       "3                     0.07122     0.12344           1.94939  \n",
       "4                     0.08484     0.11451           2.83600  "
      ]
     },
     "execution_count": 15,
     "metadata": {},
     "output_type": "execute_result"
    }
   ],
   "source": [
    "final_df.head()"
   ]
  },
  {
   "cell_type": "code",
   "execution_count": 16,
   "id": "e2354b99",
   "metadata": {},
   "outputs": [
    {
     "data": {
      "text/plain": [
       "(470, 12)"
      ]
     },
     "execution_count": 16,
     "metadata": {},
     "output_type": "execute_result"
    }
   ],
   "source": [
    "final_df.shape"
   ]
  },
  {
   "cell_type": "code",
   "execution_count": 17,
   "id": "62b68e09",
   "metadata": {},
   "outputs": [
    {
     "name": "stdout",
     "output_type": "stream",
     "text": [
      "<class 'pandas.core.frame.DataFrame'>\n",
      "Int64Index: 470 entries, 0 to 154\n",
      "Data columns (total 12 columns):\n",
      " #   Column                      Non-Null Count  Dtype  \n",
      "---  ------                      --------------  -----  \n",
      " 0   country_id                  470 non-null    int64  \n",
      " 1   Country                     470 non-null    object \n",
      " 2   Code                        468 non-null    object \n",
      " 3   HappinessRank               470 non-null    int64  \n",
      " 4   HappinessScore              470 non-null    float64\n",
      " 5   Economy_GDPperCapita        470 non-null    float64\n",
      " 6   Family                      470 non-null    float64\n",
      " 7   Health_LifeExpectancy       470 non-null    float64\n",
      " 8   Freedom                     470 non-null    float64\n",
      " 9   Trust_GovernmentCorruption  470 non-null    float64\n",
      " 10  Generosity                  470 non-null    float64\n",
      " 11  DystopiaResidual            470 non-null    float64\n",
      "dtypes: float64(8), int64(2), object(2)\n",
      "memory usage: 47.7+ KB\n"
     ]
    }
   ],
   "source": [
    "final_df.info()"
   ]
  },
  {
   "cell_type": "code",
   "execution_count": 18,
   "id": "0e4a0c3e",
   "metadata": {},
   "outputs": [],
   "source": [
    "# Drop the country_id Country and Code columns as they are mere labels\n",
    "final_df.drop(columns=['country_id', 'Country', 'Code', 'HappinessRank'], axis=1, inplace=True)"
   ]
  },
  {
   "cell_type": "code",
   "execution_count": 19,
   "id": "f8aa594f",
   "metadata": {},
   "outputs": [
    {
     "data": {
      "text/html": [
       "<div>\n",
       "<style scoped>\n",
       "    .dataframe tbody tr th:only-of-type {\n",
       "        vertical-align: middle;\n",
       "    }\n",
       "\n",
       "    .dataframe tbody tr th {\n",
       "        vertical-align: top;\n",
       "    }\n",
       "\n",
       "    .dataframe thead th {\n",
       "        text-align: right;\n",
       "    }\n",
       "</style>\n",
       "<table border=\"1\" class=\"dataframe\">\n",
       "  <thead>\n",
       "    <tr style=\"text-align: right;\">\n",
       "      <th></th>\n",
       "      <th>HappinessScore</th>\n",
       "      <th>Economy_GDPperCapita</th>\n",
       "      <th>Family</th>\n",
       "      <th>Health_LifeExpectancy</th>\n",
       "      <th>Freedom</th>\n",
       "      <th>Trust_GovernmentCorruption</th>\n",
       "      <th>Generosity</th>\n",
       "      <th>DystopiaResidual</th>\n",
       "    </tr>\n",
       "  </thead>\n",
       "  <tbody>\n",
       "    <tr>\n",
       "      <th>0</th>\n",
       "      <td>3.575</td>\n",
       "      <td>0.31982</td>\n",
       "      <td>0.30285</td>\n",
       "      <td>0.30335</td>\n",
       "      <td>0.23414</td>\n",
       "      <td>0.09719</td>\n",
       "      <td>0.36510</td>\n",
       "      <td>1.95210</td>\n",
       "    </tr>\n",
       "    <tr>\n",
       "      <th>1</th>\n",
       "      <td>4.959</td>\n",
       "      <td>0.87867</td>\n",
       "      <td>0.80434</td>\n",
       "      <td>0.81325</td>\n",
       "      <td>0.35733</td>\n",
       "      <td>0.06413</td>\n",
       "      <td>0.14272</td>\n",
       "      <td>1.89894</td>\n",
       "    </tr>\n",
       "    <tr>\n",
       "      <th>2</th>\n",
       "      <td>5.605</td>\n",
       "      <td>0.93929</td>\n",
       "      <td>1.07772</td>\n",
       "      <td>0.61766</td>\n",
       "      <td>0.28579</td>\n",
       "      <td>0.17383</td>\n",
       "      <td>0.07822</td>\n",
       "      <td>2.43209</td>\n",
       "    </tr>\n",
       "    <tr>\n",
       "      <th>3</th>\n",
       "      <td>4.033</td>\n",
       "      <td>0.75778</td>\n",
       "      <td>0.86040</td>\n",
       "      <td>0.16683</td>\n",
       "      <td>0.10384</td>\n",
       "      <td>0.07122</td>\n",
       "      <td>0.12344</td>\n",
       "      <td>1.94939</td>\n",
       "    </tr>\n",
       "    <tr>\n",
       "      <th>4</th>\n",
       "      <td>6.574</td>\n",
       "      <td>1.05351</td>\n",
       "      <td>1.24823</td>\n",
       "      <td>0.78723</td>\n",
       "      <td>0.44974</td>\n",
       "      <td>0.08484</td>\n",
       "      <td>0.11451</td>\n",
       "      <td>2.83600</td>\n",
       "    </tr>\n",
       "  </tbody>\n",
       "</table>\n",
       "</div>"
      ],
      "text/plain": [
       "   HappinessScore  Economy_GDPperCapita   Family  Health_LifeExpectancy  \\\n",
       "0           3.575               0.31982  0.30285                0.30335   \n",
       "1           4.959               0.87867  0.80434                0.81325   \n",
       "2           5.605               0.93929  1.07772                0.61766   \n",
       "3           4.033               0.75778  0.86040                0.16683   \n",
       "4           6.574               1.05351  1.24823                0.78723   \n",
       "\n",
       "   Freedom  Trust_GovernmentCorruption  Generosity  DystopiaResidual  \n",
       "0  0.23414                     0.09719     0.36510           1.95210  \n",
       "1  0.35733                     0.06413     0.14272           1.89894  \n",
       "2  0.28579                     0.17383     0.07822           2.43209  \n",
       "3  0.10384                     0.07122     0.12344           1.94939  \n",
       "4  0.44974                     0.08484     0.11451           2.83600  "
      ]
     },
     "execution_count": 19,
     "metadata": {},
     "output_type": "execute_result"
    }
   ],
   "source": [
    "final_df.head()"
   ]
  },
  {
   "cell_type": "code",
   "execution_count": 20,
   "id": "20c9acd8",
   "metadata": {},
   "outputs": [
    {
     "data": {
      "text/plain": [
       "HappinessScore                0\n",
       "Economy_GDPperCapita          0\n",
       "Family                        0\n",
       "Health_LifeExpectancy         0\n",
       "Freedom                       0\n",
       "Trust_GovernmentCorruption    0\n",
       "Generosity                    0\n",
       "DystopiaResidual              0\n",
       "dtype: int64"
      ]
     },
     "execution_count": 20,
     "metadata": {},
     "output_type": "execute_result"
    }
   ],
   "source": [
    "# Checking how many of the cells have null values and what percent of each feature is null to later determine \n",
    "# how we will deal with them. It can be seen that there are no null values in any of the columns\n",
    "final_df.isnull().sum()"
   ]
  },
  {
   "cell_type": "code",
   "execution_count": 21,
   "id": "33d24239",
   "metadata": {},
   "outputs": [
    {
     "data": {
      "text/plain": [
       "HappinessScore                1.000000\n",
       "Economy_GDPperCapita          0.785450\n",
       "Family                        0.636532\n",
       "Health_LifeExpectancy         0.748040\n",
       "Freedom                       0.560353\n",
       "Trust_GovernmentCorruption    0.406340\n",
       "Generosity                    0.163562\n",
       "DystopiaResidual              0.489747\n",
       "Name: HappinessScore, dtype: float64"
      ]
     },
     "execution_count": 21,
     "metadata": {},
     "output_type": "execute_result"
    }
   ],
   "source": [
    "# Correlation with Target feature. All features seem correlated with our target feature, thsu we will drop none\n",
    "final_df.corr()['HappinessScore']"
   ]
  },
  {
   "cell_type": "code",
   "execution_count": 22,
   "id": "9f67d672",
   "metadata": {},
   "outputs": [
    {
     "data": {
      "text/html": [
       "<div>\n",
       "<style scoped>\n",
       "    .dataframe tbody tr th:only-of-type {\n",
       "        vertical-align: middle;\n",
       "    }\n",
       "\n",
       "    .dataframe tbody tr th {\n",
       "        vertical-align: top;\n",
       "    }\n",
       "\n",
       "    .dataframe thead th {\n",
       "        text-align: right;\n",
       "    }\n",
       "</style>\n",
       "<table border=\"1\" class=\"dataframe\">\n",
       "  <thead>\n",
       "    <tr style=\"text-align: right;\">\n",
       "      <th></th>\n",
       "      <th>Economy_GDPperCapita</th>\n",
       "      <th>Family</th>\n",
       "      <th>Health_LifeExpectancy</th>\n",
       "      <th>Freedom</th>\n",
       "      <th>Trust_GovernmentCorruption</th>\n",
       "      <th>Generosity</th>\n",
       "      <th>DystopiaResidual</th>\n",
       "    </tr>\n",
       "  </thead>\n",
       "  <tbody>\n",
       "    <tr>\n",
       "      <th>0</th>\n",
       "      <td>0.31982</td>\n",
       "      <td>0.30285</td>\n",
       "      <td>0.30335</td>\n",
       "      <td>0.23414</td>\n",
       "      <td>0.09719</td>\n",
       "      <td>0.36510</td>\n",
       "      <td>1.95210</td>\n",
       "    </tr>\n",
       "    <tr>\n",
       "      <th>1</th>\n",
       "      <td>0.87867</td>\n",
       "      <td>0.80434</td>\n",
       "      <td>0.81325</td>\n",
       "      <td>0.35733</td>\n",
       "      <td>0.06413</td>\n",
       "      <td>0.14272</td>\n",
       "      <td>1.89894</td>\n",
       "    </tr>\n",
       "    <tr>\n",
       "      <th>2</th>\n",
       "      <td>0.93929</td>\n",
       "      <td>1.07772</td>\n",
       "      <td>0.61766</td>\n",
       "      <td>0.28579</td>\n",
       "      <td>0.17383</td>\n",
       "      <td>0.07822</td>\n",
       "      <td>2.43209</td>\n",
       "    </tr>\n",
       "    <tr>\n",
       "      <th>3</th>\n",
       "      <td>0.75778</td>\n",
       "      <td>0.86040</td>\n",
       "      <td>0.16683</td>\n",
       "      <td>0.10384</td>\n",
       "      <td>0.07122</td>\n",
       "      <td>0.12344</td>\n",
       "      <td>1.94939</td>\n",
       "    </tr>\n",
       "    <tr>\n",
       "      <th>4</th>\n",
       "      <td>1.05351</td>\n",
       "      <td>1.24823</td>\n",
       "      <td>0.78723</td>\n",
       "      <td>0.44974</td>\n",
       "      <td>0.08484</td>\n",
       "      <td>0.11451</td>\n",
       "      <td>2.83600</td>\n",
       "    </tr>\n",
       "  </tbody>\n",
       "</table>\n",
       "</div>"
      ],
      "text/plain": [
       "   Economy_GDPperCapita   Family  Health_LifeExpectancy  Freedom  \\\n",
       "0               0.31982  0.30285                0.30335  0.23414   \n",
       "1               0.87867  0.80434                0.81325  0.35733   \n",
       "2               0.93929  1.07772                0.61766  0.28579   \n",
       "3               0.75778  0.86040                0.16683  0.10384   \n",
       "4               1.05351  1.24823                0.78723  0.44974   \n",
       "\n",
       "   Trust_GovernmentCorruption  Generosity  DystopiaResidual  \n",
       "0                     0.09719     0.36510           1.95210  \n",
       "1                     0.06413     0.14272           1.89894  \n",
       "2                     0.17383     0.07822           2.43209  \n",
       "3                     0.07122     0.12344           1.94939  \n",
       "4                     0.08484     0.11451           2.83600  "
      ]
     },
     "execution_count": 22,
     "metadata": {},
     "output_type": "execute_result"
    }
   ],
   "source": [
    "# Split the data\n",
    "X = final_df.iloc[:,1:]\n",
    "y = final_df.iloc[:, 0]\n",
    "X.head()"
   ]
  },
  {
   "cell_type": "code",
   "execution_count": 23,
   "id": "38a0e217",
   "metadata": {},
   "outputs": [
    {
     "data": {
      "text/plain": [
       "0    3.575\n",
       "1    4.959\n",
       "2    5.605\n",
       "3    4.033\n",
       "4    6.574\n",
       "Name: HappinessScore, dtype: float64"
      ]
     },
     "execution_count": 23,
     "metadata": {},
     "output_type": "execute_result"
    }
   ],
   "source": [
    "y.head()"
   ]
  },
  {
   "cell_type": "code",
   "execution_count": 24,
   "id": "722d8a7e",
   "metadata": {},
   "outputs": [],
   "source": [
    "# Split the X and y into training and test\n",
    "X_train, X_test, y_train, y_test = train_test_split(X, y, test_size = 0.3, random_state = 101)"
   ]
  },
  {
   "cell_type": "code",
   "execution_count": 25,
   "id": "5d184e37",
   "metadata": {},
   "outputs": [],
   "source": [
    "# Scaling features\n",
    "scaler = Normalizer().fit(X_train) \n",
    "LR_X_train = scaler.transform(X_train) \n",
    "LR_X_test = scaler.transform(X_test)"
   ]
  },
  {
   "cell_type": "code",
   "execution_count": 26,
   "id": "968bd8b2",
   "metadata": {},
   "outputs": [
    {
     "name": "stdout",
     "output_type": "stream",
     "text": [
      "Standard linear regression R2 =  0.3632276543663696 \n",
      "\n",
      "Standard linear regression coefficients :\n",
      "Economy_GDPperCapita : 7.416698023274023\n",
      "Family : 4.299372358286932\n",
      "Health_LifeExpectancy : 3.890709928345486\n",
      "Freedom : 3.50190737355315\n",
      "Trust_GovernmentCorruption : 6.607068048254094\n",
      "Generosity : -1.3549407931513997\n",
      "DystopiaResidual : 10.055969666186387\n"
     ]
    }
   ],
   "source": [
    "# Standard Linear Regression\n",
    "reg = LinearRegression().fit(LR_X_train, y_train)\n",
    "y_pred = reg.predict(LR_X_test)\n",
    "r2 = r2_score(y_test, y_pred)\n",
    "print(\"Standard linear regression R2 = \", r2, \"\\n\")\n",
    "coef = reg.coef_\n",
    "print(\"Standard linear regression coefficients :\")\n",
    "i = 0; \n",
    "for col in X.columns:\n",
    "  print(col, \":\", coef[i])\n",
    "  i = i + 1"
   ]
  },
  {
   "cell_type": "code",
   "execution_count": 27,
   "id": "68344e9b",
   "metadata": {},
   "outputs": [
    {
     "name": "stdout",
     "output_type": "stream",
     "text": [
      "Ridge linear regression R2 =  0.2138228079448481 \n",
      "\n",
      "Ridge linear regression coefficients :\n",
      "Economy_GDPperCapita : 7.416698023274023\n",
      "Family : 4.299372358286932\n",
      "Health_LifeExpectancy : 3.890709928345486\n",
      "Freedom : 3.50190737355315\n",
      "Trust_GovernmentCorruption : 6.607068048254094\n",
      "Generosity : -1.3549407931513997\n",
      "DystopiaResidual : 10.055969666186387\n"
     ]
    }
   ],
   "source": [
    "# Ridge Regression\n",
    "ridge_reg = Ridge().fit(LR_X_train, y_train)\n",
    "y_pred = ridge_reg.predict(LR_X_test)\n",
    "r2 = r2_score(y_test, y_pred)\n",
    "print(\"Ridge linear regression R2 = \", r2, \"\\n\")\n",
    "coef = reg.coef_\n",
    "print(\"Ridge linear regression coefficients :\")\n",
    "i = 0; \n",
    "for col in X.columns:\n",
    "  print(col, \":\", coef[i])\n",
    "  i = i + 1"
   ]
  },
  {
   "cell_type": "code",
   "execution_count": 28,
   "id": "09114fb3",
   "metadata": {},
   "outputs": [
    {
     "name": "stdout",
     "output_type": "stream",
     "text": [
      "Lasso linear regression R2 =  -0.044746129356717734 \n",
      "\n",
      "Lasso linear regression coefficients :\n",
      "Economy_GDPperCapita : 7.416698023274023\n",
      "Family : 4.299372358286932\n",
      "Health_LifeExpectancy : 3.890709928345486\n",
      "Freedom : 3.50190737355315\n",
      "Trust_GovernmentCorruption : 6.607068048254094\n",
      "Generosity : -1.3549407931513997\n",
      "DystopiaResidual : 10.055969666186387\n"
     ]
    }
   ],
   "source": [
    "# Lasso Regression\n",
    "lasso_reg = Lasso().fit(LR_X_train, y_train)\n",
    "y_pred = lasso_reg.predict(LR_X_test)\n",
    "r2 = r2_score(y_test, y_pred)\n",
    "print(\"Lasso linear regression R2 = \", r2, \"\\n\")\n",
    "coef = reg.coef_\n",
    "print(\"Lasso linear regression coefficients :\")\n",
    "i = 0; \n",
    "for col in X.columns:\n",
    "  print(col, \":\", coef[i])\n",
    "  i = i + 1"
   ]
  },
  {
   "cell_type": "code",
   "execution_count": 29,
   "id": "91711d88",
   "metadata": {},
   "outputs": [
    {
     "name": "stdout",
     "output_type": "stream",
     "text": [
      "Best alpha =  10000.0\n"
     ]
    }
   ],
   "source": [
    "# Trying hyperparameter tuning\n",
    "lasso_reg = LassoCV(alphas = [0.1, 1, 10, 100, 500, 1000, 10000]).fit(LR_X_train, y_train) \n",
    "print(\"Best alpha = \", lasso_reg.alpha_)"
   ]
  },
  {
   "cell_type": "code",
   "execution_count": 31,
   "id": "d3ef86f2",
   "metadata": {},
   "outputs": [
    {
     "name": "stdout",
     "output_type": "stream",
     "text": [
      "Standard linear regression R2 =  0.9999999320177329 \n",
      "\n",
      "Standard linear regression coefficients :\n",
      "Economy_GDPperCapita : 1.0000570017666355\n",
      "Family : 0.9999732757213325\n",
      "Health_LifeExpectancy : 0.9998447777230566\n",
      "Freedom : 0.9999821233639716\n",
      "Trust_GovernmentCorruption : 0.9997473090581365\n",
      "Generosity : 1.0001626822284784\n",
      "DystopiaResidual : 0.999994336281247\n"
     ]
    }
   ],
   "source": [
    "# Linear Regression without normalization and with Standardization\n",
    "reg = LinearRegression().fit(X_train, y_train)\n",
    "y_pred = reg.predict(X_test)\n",
    "r2 = r2_score(y_test, y_pred)\n",
    "print(\"Standard linear regression R2 = \", r2, \"\\n\")\n",
    "coef = reg.coef_\n",
    "print(\"Standard linear regression coefficients :\")\n",
    "i = 0; \n",
    "for col in X.columns:\n",
    "  print(col, \":\", coef[i])\n",
    "  i = i + 1"
   ]
  },
  {
   "cell_type": "code",
   "execution_count": 32,
   "id": "fd7661d1",
   "metadata": {},
   "outputs": [],
   "source": [
    "scaler = StandardScaler().fit(X_train) \n",
    "S_X_train = scaler.transform(X_train) \n",
    "S_X_test = scaler.transform(X_test)"
   ]
  },
  {
   "cell_type": "code",
   "execution_count": 33,
   "id": "de76fcfb",
   "metadata": {},
   "outputs": [
    {
     "name": "stdout",
     "output_type": "stream",
     "text": [
      "Standard linear regression R2 =  0.9999999320177329 \n",
      "\n",
      "Standard linear regression coefficients :\n",
      "Economy_GDPperCapita : 0.4117930700621781\n",
      "Family : 0.3205203501630463\n",
      "Health_LifeExpectancy : 0.23471955634198322\n",
      "Freedom : 0.15441367147821053\n",
      "Trust_GovernmentCorruption : 0.10978345763920012\n",
      "Generosity : 0.12730991887184478\n",
      "DystopiaResidual : 0.5329734971581841\n"
     ]
    }
   ],
   "source": [
    "reg = LinearRegression().fit(S_X_train, y_train)\n",
    "y_pred = reg.predict(S_X_test)\n",
    "r2 = r2_score(y_test, y_pred)\n",
    "print(\"Standard linear regression R2 = \", r2, \"\\n\")\n",
    "coef = reg.coef_\n",
    "print(\"Standard linear regression coefficients :\")\n",
    "i = 0; \n",
    "for col in X.columns:\n",
    "  print(col, \":\", coef[i])\n",
    "  i = i + 1"
   ]
  },
  {
   "cell_type": "code",
   "execution_count": 34,
   "id": "d35e7345",
   "metadata": {},
   "outputs": [
    {
     "name": "stdout",
     "output_type": "stream",
     "text": [
      "Ridge linear regression R2 =  0.9999942757675014 \n",
      "\n",
      "Ridge linear regression coefficients :\n",
      "Economy_GDPperCapita : 0.4117930700621781\n",
      "Family : 0.3205203501630463\n",
      "Health_LifeExpectancy : 0.23471955634198322\n",
      "Freedom : 0.15441367147821053\n",
      "Trust_GovernmentCorruption : 0.10978345763920012\n",
      "Generosity : 0.12730991887184478\n",
      "DystopiaResidual : 0.5329734971581841\n"
     ]
    }
   ],
   "source": [
    "ridge_reg = Ridge().fit(S_X_train, y_train)\n",
    "y_pred = ridge_reg.predict(S_X_test)\n",
    "r2 = r2_score(y_test, y_pred)\n",
    "print(\"Ridge linear regression R2 = \", r2, \"\\n\")\n",
    "coef = reg.coef_\n",
    "print(\"Ridge linear regression coefficients :\")\n",
    "i = 0; \n",
    "for col in X.columns:\n",
    "  print(col, \":\", coef[i])\n",
    "  i = i + 1"
   ]
  },
  {
   "cell_type": "code",
   "execution_count": 35,
   "id": "700a44d6",
   "metadata": {},
   "outputs": [
    {
     "name": "stdout",
     "output_type": "stream",
     "text": [
      "Lasso linear regression R2 =  -0.044746129356717734 \n",
      "\n",
      "Lasso linear regression coefficients :\n",
      "Economy_GDPperCapita : 0.4117930700621781\n",
      "Family : 0.3205203501630463\n",
      "Health_LifeExpectancy : 0.23471955634198322\n",
      "Freedom : 0.15441367147821053\n",
      "Trust_GovernmentCorruption : 0.10978345763920012\n",
      "Generosity : 0.12730991887184478\n",
      "DystopiaResidual : 0.5329734971581841\n"
     ]
    }
   ],
   "source": [
    "lasso_reg = Lasso().fit(S_X_train, y_train)\n",
    "y_pred = lasso_reg.predict(S_X_test)\n",
    "r2 = r2_score(y_test, y_pred)\n",
    "print(\"Lasso linear regression R2 = \", r2, \"\\n\")\n",
    "coef = reg.coef_\n",
    "print(\"Lasso linear regression coefficients :\")\n",
    "i = 0; \n",
    "for col in X.columns:\n",
    "  print(col, \":\", coef[i])\n",
    "  i = i + 1"
   ]
  },
  {
   "cell_type": "code",
   "execution_count": 36,
   "id": "e15853fe",
   "metadata": {},
   "outputs": [
    {
     "data": {
      "text/plain": [
       "0.9613281918525236"
      ]
     },
     "execution_count": 36,
     "metadata": {},
     "output_type": "execute_result"
    }
   ],
   "source": [
    "regressor = KNeighborsRegressor()\n",
    "regressor.fit(X_train, y_train)\n",
    "y_pred = regressor.predict(X_test)\n",
    "r2_score(y_test, y_pred)"
   ]
  },
  {
   "cell_type": "code",
   "execution_count": 38,
   "id": "40a0dc8b",
   "metadata": {},
   "outputs": [
    {
     "name": "stdout",
     "output_type": "stream",
     "text": [
      "score for 3 fold CV is : 0.964368493250965\n",
      "Best result {'algorithm': 'auto', 'n_neighbors': 4, 'p': 2, 'weights': 'distance'}\n",
      "score for 4 fold CV is : 0.964368493250965\n",
      "Best result {'algorithm': 'auto', 'n_neighbors': 4, 'p': 2, 'weights': 'distance'}\n",
      "score for 5 fold CV is : 0.964368493250965\n",
      "Best result {'algorithm': 'auto', 'n_neighbors': 4, 'p': 2, 'weights': 'distance'}\n"
     ]
    }
   ],
   "source": [
    "hp = {'n_neighbors':np.arange(3,7), \n",
    "      'weights': ['uniform', 'distance'], \n",
    "      'algorithm' : ['auto', 'ball_tree', 'kd_tree', 'brute'],\n",
    "      'p': [1, 2]}\n",
    "\n",
    "for cv in range(3,6):\n",
    "    grid = GridSearchCV(regressor, param_grid  = hp  , cv = cv, scoring = make_scorer(r2_score))\n",
    "    grid.fit(X_train,y_train)\n",
    "    print(f\"score for {cv} fold CV is : {grid.score(X_test,y_test)}\")\n",
    "    print(f\"Best result {grid.best_params_}\")\n",
    "\n",
    "KNN_Reg1 = grid.best_estimator_"
   ]
  },
  {
   "cell_type": "code",
   "execution_count": 39,
   "id": "b0873ae4",
   "metadata": {},
   "outputs": [
    {
     "data": {
      "text/plain": [
       "0.8404782945378367"
      ]
     },
     "execution_count": 39,
     "metadata": {},
     "output_type": "execute_result"
    }
   ],
   "source": [
    "regressor = DecisionTreeRegressor()\n",
    "regressor.fit(X_train, y_train)\n",
    "y_pred = regressor.predict(X_test)\n",
    "r2_score(y_test, y_pred)"
   ]
  },
  {
   "cell_type": "code",
   "execution_count": 40,
   "id": "a5b332b7",
   "metadata": {},
   "outputs": [
    {
     "name": "stdout",
     "output_type": "stream",
     "text": [
      "score for 3 fold CV is : 0.8371985641260221\n",
      "Best result {'criterion': 'mse', 'max_depth': 13, 'max_features': 'auto', 'splitter': 'random'}\n",
      "score for 4 fold CV is : 0.8307846244378946\n",
      "Best result {'criterion': 'mse', 'max_depth': 8, 'max_features': 'auto', 'splitter': 'best'}\n",
      "score for 5 fold CV is : 0.8062545056871033\n",
      "Best result {'criterion': 'mae', 'max_depth': 11, 'max_features': 'auto', 'splitter': 'best'}\n"
     ]
    }
   ],
   "source": [
    "hp = {'criterion':['mse', 'friedman_mse', 'mae'], \n",
    "      'max_depth':np.arange(1,20),\n",
    "      'splitter': ['best', 'random'], \n",
    "      'max_features' : ['auto', 'sqrt', 'log2']}\n",
    "\n",
    "for cv in range(3,6):\n",
    "    grid = GridSearchCV(regressor, param_grid  = hp  , cv = cv, scoring = make_scorer(r2_score))\n",
    "    grid.fit(X_train,y_train)\n",
    "    print(f\"score for {cv} fold CV is : {grid.score(X_test,y_test)}\")\n",
    "    print(f\"Best result {grid.best_params_}\")"
   ]
  },
  {
   "cell_type": "code",
   "execution_count": 41,
   "id": "ea28bc4b",
   "metadata": {},
   "outputs": [
    {
     "name": "stdout",
     "output_type": "stream",
     "text": [
      "0 feature Economy_GDPperCapita 0.3859796178671832\n",
      "1 feature DystopiaResidual 0.19164138831874195\n",
      "2 feature Freedom 0.13554822785742554\n",
      "3 feature Health_LifeExpectancy 0.13462553799446444\n",
      "4 feature Family 0.09878949176827446\n",
      "5 feature Trust_GovernmentCorruption 0.02849011709513863\n",
      "6 feature Generosity 0.02492561909877184\n"
     ]
    },
    {
     "data": {
      "image/png": "[encoded data removed]",
      "text/plain": [
       "<Figure size 1440x1440 with 1 Axes>"
      ]
     },
     "metadata": {
      "needs_background": "light"
     },
     "output_type": "display_data"
    }
   ],
   "source": [
    "Reg_Tree1 = grid.best_estimator_\n",
    "\n",
    "feature_names = list(X_train.columns)\n",
    "\n",
    "importances = Reg_Tree1.feature_importances_\n",
    "\n",
    "indices = np.argsort(importances)[::-1]\n",
    "\n",
    "for f in range(X_train.shape[1]):\n",
    "    print(f'{f} feature {feature_names[indices[f]]} {importances[indices[f]]}')\n",
    "\n",
    "\n",
    "plt.figure(figsize=(20, 20))\n",
    "plt.title(\"Feature importances - Simple Regression Tree\")\n",
    "plt.bar(range(X_train.shape[1]), importances[indices],\n",
    "        color=\"r\", align=\"center\")\n",
    "plt.xlim([-1, X_train.shape[1]])\n",
    "plt.show()"
   ]
  },
  {
   "cell_type": "code",
   "execution_count": null,
   "id": "3aa7307c",
   "metadata": {},
   "outputs": [],
   "source": []
  }
 ],
 "metadata": {
  "kernelspec": {
   "display_name": "Python [conda env:PythonAdv]",
   "language": "python",
   "name": "conda-env-PythonAdv-py"
  },
  "language_info": {
   "codemirror_mode": {
    "name": "ipython",
    "version": 3
   },
   "file_extension": ".py",
   "mimetype": "text/x-python",
   "name": "python",
   "nbconvert_exporter": "python",
   "pygments_lexer": "ipython3",
   "version": "3.6.13"
  }
 },
 "nbformat": 4,
 "nbformat_minor": 5
}
